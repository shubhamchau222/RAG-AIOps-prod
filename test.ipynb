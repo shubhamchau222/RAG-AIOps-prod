{
 "cells": [
  {
   "cell_type": "code",
   "execution_count": 4,
   "id": "18cb4064",
   "metadata": {},
   "outputs": [],
   "source": [
    "import os\n",
    "from langchain_google_genai import GoogleGenerativeAIEmbeddings\n",
    "from dotenv import load_dotenv"
   ]
  },
  {
   "cell_type": "code",
   "execution_count": 5,
   "id": "2c3b3deb",
   "metadata": {},
   "outputs": [
    {
     "data": {
      "text/plain": [
       "True"
      ]
     },
     "execution_count": 5,
     "metadata": {},
     "output_type": "execute_result"
    }
   ],
   "source": [
    "load_dotenv()"
   ]
  },
  {
   "cell_type": "code",
   "execution_count": null,
   "id": "5c2456c6",
   "metadata": {},
   "outputs": [],
   "source": [
    "GOOGLE_API_KEY= os.getenv(\"GOOGLE_API_KEY\")\n",
    "print(GOOGLE_API_KEY)"
   ]
  },
  {
   "cell_type": "code",
   "execution_count": 7,
   "id": "9028d768",
   "metadata": {},
   "outputs": [],
   "source": [
    "embedding_model = GoogleGenerativeAIEmbeddings(model='models/text-embedding-004',\n",
    "                                               google_api_key= GOOGLE_API_KEY\n",
    "                                               )"
   ]
  },
  {
   "cell_type": "code",
   "execution_count": 8,
   "id": "6feedfc5",
   "metadata": {},
   "outputs": [
    {
     "data": {
      "text/plain": [
       "[0.023399516940116882,\n",
       " -0.008547142148017883,\n",
       " -0.05253422260284424,\n",
       " -0.01214311458170414,\n",
       " 0.005504241678863764,\n",
       " -0.0010077019687741995,\n",
       " 0.028462888672947884,\n",
       " 0.037563253194093704,\n",
       " -0.023794617503881454,\n",
       " 0.04509587213397026,\n",
       " -0.014744246378540993,\n",
       " 0.0034827266354113817,\n",
       " 0.07847461849451065,\n",
       " -0.00889504048973322,\n",
       " -0.008143913000822067,\n",
       " -0.045579127967357635,\n",
       " 0.01767483539879322,\n",
       " 0.010504201054573059,\n",
       " -0.11951810866594315,\n",
       " 0.025116991251707077]"
      ]
     },
     "execution_count": 8,
     "metadata": {},
     "output_type": "execute_result"
    }
   ],
   "source": [
    "embedding_model.embed_query(\"Hello world\")[:20]"
   ]
  },
  {
   "cell_type": "code",
   "execution_count": null,
   "id": "4b6bc867",
   "metadata": {},
   "outputs": [],
   "source": []
  }
 ],
 "metadata": {
  "kernelspec": {
   "display_name": "endtoendrag",
   "language": "python",
   "name": "python3"
  },
  "language_info": {
   "codemirror_mode": {
    "name": "ipython",
    "version": 3
   },
   "file_extension": ".py",
   "mimetype": "text/x-python",
   "name": "python",
   "nbconvert_exporter": "python",
   "pygments_lexer": "ipython3",
   "version": "3.13.2"
  }
 },
 "nbformat": 4,
 "nbformat_minor": 5
}
